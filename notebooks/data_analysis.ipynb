{
 "cells": [
  {
   "cell_type": "code",
   "execution_count": null,
   "id": "0d3eeb06",
   "metadata": {},
   "outputs": [
    {
     "name": "stdout",
     "output_type": "stream",
     "text": [
      "<class 'pandas.core.frame.DataFrame'>\n",
      "RangeIndex: 397884 entries, 0 to 397883\n",
      "Data columns (total 13 columns):\n",
      " #   Column        Non-Null Count   Dtype  \n",
      "---  ------        --------------   -----  \n",
      " 0   InvoiceNo     397884 non-null  int64  \n",
      " 1   StockCode     397884 non-null  object \n",
      " 2   Description   397884 non-null  object \n",
      " 3   Quantity      397884 non-null  int64  \n",
      " 4   InvoiceDate   397884 non-null  object \n",
      " 5   UnitPrice     397884 non-null  float64\n",
      " 6   CustomerID    397884 non-null  int64  \n",
      " 7   Country       397884 non-null  object \n",
      " 8   InvoiceYear   397884 non-null  int64  \n",
      " 9   InvoiceMonth  397884 non-null  int64  \n",
      " 10  InvoiceDay    397884 non-null  int64  \n",
      " 11  InvoiceTime   397884 non-null  object \n",
      " 12  GrandTotal    397884 non-null  float64\n",
      "dtypes: float64(2), int64(6), object(5)\n",
      "memory usage: 39.5+ MB\n"
     ]
    }
   ],
   "source": [
    "import pandas as pd\n",
    "import matplotlib.pyplot as plt\n",
    "df = pd.read_csv('../data/data_cleaned.csv')\n",
    "df.info()"
   ]
  }
 ],
 "metadata": {
  "kernelspec": {
   "display_name": "venv",
   "language": "python",
   "name": "python3"
  },
  "language_info": {
   "codemirror_mode": {
    "name": "ipython",
    "version": 3
   },
   "file_extension": ".py",
   "mimetype": "text/x-python",
   "name": "python",
   "nbconvert_exporter": "python",
   "pygments_lexer": "ipython3",
   "version": "3.8.5"
  }
 },
 "nbformat": 4,
 "nbformat_minor": 5
}
